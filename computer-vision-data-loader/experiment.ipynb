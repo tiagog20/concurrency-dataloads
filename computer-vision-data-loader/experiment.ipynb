{
 "cells": [
  {
   "cell_type": "code",
   "execution_count": null,
   "id": "55b9bcfb-f6c3-40f6-8a89-5ebdfb32114e",
   "metadata": {},
   "outputs": [],
   "source": [
    "import time\n",
    "from typing import Iterator\n",
    "\n",
    "import matplotlib.pyplot as plt\n",
    "\n",
    "#from src import loader"
   ]
  },
  {
   "cell_type": "markdown",
   "id": "e399a67b",
   "metadata": {},
   "source": [
    "## Basic Example\n",
    "\n",
    "Here we just want to check whether our data loader works as expected."
   ]
  },
  {
   "cell_type": "code",
   "execution_count": 2,
   "id": "35fb5556-bb1c-4cf6-89f9-44a2b5fbfdc1",
   "metadata": {},
   "outputs": [],
   "source": [
    "iterator = loader.load([\"./data/pokemon-gen1-data.csv\"])"
   ]
  },
  {
   "cell_type": "code",
   "execution_count": null,
   "id": "bd48d23d-6f39-4093-a61a-392bfff53cfe",
   "metadata": {},
   "outputs": [],
   "source": [
    "def produce(iterator: Iterator[loader.Row]):\n",
    "    t0 = time.perf_counter()\n",
    "    row = next(iterator)\n",
    "    print(f\"Operation took {time.perf_counter() - t0}\")\n",
    "    plt.imshow(row.image)\n",
    "    plt.title(row.name)\n",
    "    return row"
   ]
  },
  {
   "cell_type": "code",
   "execution_count": 4,
   "id": "6a4f55ad-38d3-43f1-8dae-36914c115123",
   "metadata": {},
   "outputs": [
    {
     "name": "stdout",
     "output_type": "stream",
     "text": [
      "Operation took 0.2441070000641048\n"
     ]
    },
    {
     "data": {
      "image/png": "[encoded data removed]",
      "text/plain": [
       "<Figure size 640x480 with 1 Axes>"
      ]
     },
     "metadata": {},
     "output_type": "display_data"
    }
   ],
   "source": [
    "row = produce(iterator)"
   ]
  },
  {
   "cell_type": "markdown",
   "id": "22eef400",
   "metadata": {},
   "source": [
    "## Most performant case\n",
    "\n",
    "Write here different attempts to improve the performance of the data loader, so that the memory usage and the time to produce an image is very low. Consider that:\n",
    "* You can report many attemps; show the effect of playing with the `threading`, `asyncio` and `multiprocessing` modules.\n",
    "* You can report your results in any way you consider relevant.\n",
    "* You can even use a different `load` function, one that you think it is more appropiate to maximize performance. "
   ]
  },
  {
   "cell_type": "markdown",
   "id": "3b8d8a0a",
   "metadata": {},
   "source": []
  },
  {
   "cell_type": "code",
   "execution_count": null,
   "id": "7b4051a6-65d5-4d37-89df-3ce4ab03adc1",
   "metadata": {},
   "outputs": [],
   "source": []
  }
 ],
 "metadata": {
  "kernelspec": {
   "display_name": "Python 3 (ipykernel)",
   "language": "python",
   "name": "python3"
  },
  "language_info": {
   "codemirror_mode": {
    "name": "ipython",
    "version": 3
   },
   "file_extension": ".py",
   "mimetype": "text/x-python",
   "name": "python",
   "nbconvert_exporter": "python",
   "pygments_lexer": "ipython3",
   "version": "3.13.0"
  }
 },
 "nbformat": 4,
 "nbformat_minor": 5
}
